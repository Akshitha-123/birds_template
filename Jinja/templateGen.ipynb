{
 "cells": [
  {
   "cell_type": "code",
   "execution_count": 4,
   "metadata": {},
   "outputs": [],
   "source": [
    "import pickle\n",
    "import ast\n",
    "from jinja2 import Environment, FileSystemLoader,Template\n",
    "import string\n",
    "from hashlib import sha1\n",
    "from datetime import datetime\n",
    "import pandas as pd\n",
    "import numpy as np\n",
    "from tqdm import tqdm\n",
    "import jinja2\n",
    "pd.set_option('display.max_rows', 500)\n",
    "pd.set_option('display.max_columns', 500)\n",
    "pd.set_option('display.width', 1000)"
   ]
  },
  {
   "cell_type": "code",
   "execution_count": 7,
   "metadata": {},
   "outputs": [
    {
     "data": {
      "text/plain": [
       "'Spiderman stared by Tom Holland and Zendya'"
      ]
     },
     "execution_count": 7,
     "metadata": {},
     "output_type": "execute_result"
    }
   ],
   "source": [
    "hero = 'Tom Holland'\n",
    "heroine = 'Zendya'\n",
    "temp_str = Template('Spiderman stared by {{hero}} and {{heroine}}')\n",
    "temp_str.render(hero = 'Tom Holland',heroine = 'Zendya')"
   ]
  },
  {
   "cell_type": "markdown",
   "metadata": {},
   "source": [
    "### Copy pasted code , Need to trace "
   ]
  },
  {
   "cell_type": "code",
   "execution_count": null,
   "metadata": {},
   "outputs": [],
   "source": [
    "tewiki = '''<mediawiki xmlns=\"http://www.mediawiki.org/xml/export-0.10/\" xmlns:xsi=\"http://www.w3.org/2001/XMLSchema-instance\" xsi:schemaLocation=\"http://www.mediawiki.org/xml/export-0.10/ http://www.mediawiki.org/xml/export-0.10.xsd\" version=\"0.10\" xml:lang=\"te\">\n",
    "\t<siteinfo>\n",
    "\t\t<sitename>tewiki</sitename>\n",
    "\t\t<dbname>indicwiki</dbname>\n",
    "\t\t<base>https://tewiki.iiit.ac.in/index.php/%E0%B0%AE%E0%B1%8A%E0%B0%A6%E0%B0%9F%E0%B0%BF_%E0%B0%AA%E0%B1%87%E0%B0%9C%E0%B1%80</base>\n",
    "\t\t<generator>MediaWiki 1.34.0</generator>\n",
    "\t\t<case>first-letter</case>\n",
    "\t\t<namespaces>\n",
    "\t\t\t<namespace key=\"-2\" case=\"first-letter\">మీడియా</namespace>\n",
    "\t\t\t<namespace key=\"-1\" case=\"first-letter\">ప్రత్యేక</namespace>\n",
    "\t\t\t<namespace key=\"0\" case=\"first-letter\" />\n",
    "\t\t\t<namespace key=\"1\" case=\"first-letter\">చర్చ</namespace>\n",
    "\t\t\t<namespace key=\"2\" case=\"first-letter\">వాడుకరి</namespace>\n",
    "\t\t\t<namespace key=\"3\" case=\"first-letter\">వాడుకరి చర్చ</namespace>\n",
    "\t\t\t<namespace key=\"4\" case=\"first-letter\">Project</namespace>\n",
    "\t\t\t<namespace key=\"5\" case=\"first-letter\">Project చర్చ</namespace>\n",
    "\t\t\t<namespace key=\"6\" case=\"first-letter\">దస్త్రం</namespace>\n",
    "\t\t\t<namespace key=\"7\" case=\"first-letter\">దస్త్రంపై చర్చ</namespace>\n",
    "\t\t\t<namespace key=\"8\" case=\"first-letter\">మీడియావికీ</namespace>\n",
    "\t\t\t<namespace key=\"9\" case=\"first-letter\">మీడియావికీ చర్చ</namespace>\n",
    "\t\t\t<namespace key=\"10\" case=\"first-letter\">మూస</namespace>\n",
    "\t\t\t<namespace key=\"11\" case=\"first-letter\">మూస చర్చ</namespace>\n",
    "\t\t\t<namespace key=\"12\" case=\"first-letter\">సహాయం</namespace>\n",
    "\t\t\t<namespace key=\"13\" case=\"first-letter\">సహాయం చర్చ</namespace>\n",
    "\t\t\t<namespace key=\"14\" case=\"first-letter\">వర్గం</namespace>\n",
    "\t\t\t<namespace key=\"15\" case=\"first-letter\">వర్గం చర్చ</namespace>\n",
    "\t\t\t<namespace key=\"828\" case=\"first-letter\">మాడ్యూల్</namespace>\n",
    "\t\t\t<namespace key=\"829\" case=\"first-letter\">మాడ్యూల్ చర్చ</namespace>\n",
    "\t\t\t<namespace key=\"2300\" case=\"first-letter\">Gadget</namespace>\n",
    "\t\t\t<namespace key=\"2301\" case=\"first-letter\">Gadget talk</namespace>\n",
    "\t\t\t<namespace key=\"2302\" case=\"case-sensitive\">Gadget definition</namespace>\n",
    "\t\t\t<namespace key=\"2303\" case=\"case-sensitive\">Gadget definition talk</namespace>\n",
    "\t\t\t<namespace key=\"2600\" case=\"first-letter\">Topic</namespace>\n",
    "\t\t</namespaces>\n",
    "\t</siteinfo>\\n'''\n",
    "\n",
    "# 990000 - 992000 => cars indian articles\n",
    "# Global Variables\n",
    "\n",
    "user_id =\"18209\"\n",
    "username =\"Yaswanth522\"\n",
    "\n",
    "# Funtions to write page to file object\n",
    "def sha36(page_id):\n",
    "\tpage_id = str(page_id).encode('utf-8')\n",
    "\tsha16 =sha1(page_id).hexdigest()\n",
    "\tsha10 =int(sha16, 16)\n",
    "\n",
    "\tchars =[]\n",
    "\talphabets = string.digits +string.ascii_lowercase\n",
    "\twhile sha10>0:\n",
    "\t\tsha10, r = divmod(sha10, 36)\n",
    "\t\tchars.append(alphabets[r])\n",
    "\t\n",
    "\treturn ''.join(reversed(chars))\n",
    "# to replace &,<,>,\",' in to desired format\n",
    "def modify(text):\n",
    "\ttext=text.replace('&',\"&amp;\")\n",
    "\ttext=text.replace('<',\"&lt;\")\n",
    "\ttext=text.replace('>',\"&gt;\")\n",
    "\ttext=text.replace('\"',\"&quot;\")\n",
    "\ttext=text.replace(\"'\",\"&apos;\")\n",
    "\treturn text\n",
    "\n",
    "def writePage(title, wikiText, fobj, page_id):\n",
    "\tglobal user_id, username\n",
    "\n",
    "\tpglen = len(wikiText)\n",
    "\ttext = modify(wikiText)\n",
    "\ttime =datetime.now().strftime(\"%Y-%m-%dT%H-%M-%SZ\")\n",
    "\t\n",
    "\tcurPage ='''\\n\\n\n",
    "\t<page>\n",
    "\t\t<title>''' +title +'''</title>\n",
    "\t\t<ns>0</ns>\n",
    "\t\t<id>''' +str(page_id) +'''</id>\n",
    "\t\t<revision>\n",
    "\t\t\t<id>''' +str(page_id) +'''</id>\n",
    "\t\t\t<timestamp>'''+time+'''</timestamp>\n",
    "\t\t\t<contributor>\n",
    "\t\t\t\t<username>''' +username +'''</username>\n",
    "\t\t\t\t<id>''' +str(user_id) +'''</id>\n",
    "\t\t\t</contributor>\n",
    "\t\t\t<comment>xmlpage created</comment>\n",
    "\t\t\t<model>wikitext</model>\n",
    "\t\t\t<format>text/x-wiki</format>\n",
    "\t\t\t<text xml:space=\"preserve\" bytes=\"''' +str(pglen) +'''\">\n",
    "\t\t\t\\n''' +text +'''\n",
    "\t\t\t</text>\n",
    "\t\t\t<sha1>''' +sha36(page_id) +'''</sha1>\n",
    "\t\t</revision>\n",
    "\t</page>\n",
    "\t\\n\\n'''\n",
    "\n",
    "\tfobj.write(curPage)\n",
    "\treturn"
   ]
  }
 ],
 "metadata": {
  "kernelspec": {
   "display_name": "AkWiki",
   "language": "python",
   "name": "indicwiki"
  },
  "language_info": {
   "codemirror_mode": {
    "name": "ipython",
    "version": 3
   },
   "file_extension": ".py",
   "mimetype": "text/x-python",
   "name": "python",
   "nbconvert_exporter": "python",
   "pygments_lexer": "ipython3",
   "version": "3.9.12"
  },
  "orig_nbformat": 4
 },
 "nbformat": 4,
 "nbformat_minor": 2
}
